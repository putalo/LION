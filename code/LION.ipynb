{
 "cells": [
  {
   "cell_type": "markdown",
   "metadata": {},
   "source": [
    "# Getting to know my LIONs\n"
   ]
  },
  {
   "cell_type": "markdown",
   "metadata": {},
   "source": [
    "<hr/>\n",
    "\n",
    "### Phuc (Peter) Luong\n",
    "### Credit to M. for her tremendous help in data collection\n",
    "Thank you for your interest in this post. It is under heavy WIP. Please check back soon for more information\n",
    "<br>\n",
    "Peter Luong\n"
   ]
  },
  {
   "cell_type": "markdown",
   "metadata": {},
   "source": [
    "<img src=\"https://media-exp1.licdn.com/dms/image/C4E12AQEKr3MY8m6_Nw/article-cover_image-shrink_720_1280/0?e=1598486400&v=beta&t=-A06ZUCK3MXoZh6wOaQTH_cgEsWcvSo4tXnay5MVuC0\" width=\"400\" height=\"100\">\n"
   ]
  },
  {
   "cell_type": "markdown",
   "metadata": {},
   "source": [
    "<hr/>\n",
    "\n",
    "### Motivation:\n",
    "[LinkedIn](https://www.linkedin.com) is indeed one of the most powerful tools for social networking. People use LinkedIn to connect professionally with other individuals, to rekindle with old classmates on a more serious level or simply just to get to know professionals working around the globe. From the latter, a more focused and specific community group emerges from the LinkedIn platform, known as LinkedIn Open Networker. For simplicity, throughout the rest of this analysis, I will refer to this group as LION. As the name sugggests, member from LION communities will establish a tag after their name, signalling to other LinkedIn users the ideas of welcoming anyone who wishes to \"connect\" with them, getting to know them professionally. \n",
    "\n",
    "<br>\n",
    "Because of the nature of freedom in sending out and accepting any connection requests, it is expected from LIONs to be open to individuals without regard to their characteristics. To put in another way, true LIONs will accept people from all types of location, industry and occupational seniority. \n",
    "\n",
    "\n",
    "<br>\n",
    "\n",
    "**So why is this aspect important in my exploratory analysis?** \n",
    "\n",
    "The answer depends heavily on the approach to the main question for expolaratory analysis: who are my LIONs? Please refer to the Methods section for a more detailed plan. In short, this analysis aims to understand the random population of LION community. For example, I compose a list of questions that this article tries to answer: \n",
    "* Who are they professionally? (i.e what do they do?)\n",
    "* What are they specialized in? (industries: education)\n",
    "* Where are they from? (locations)\n",
    "* What are their skills? Are there relevant and common skill sets?\n",
    "\n",
    "So to potentially answer these proposed questions in an analystical and 'fun' way, we need a variant data sources, one in which there is a large variance and difference between each data record. To put it simply, \n",
    "It somewhat mimicks a random experiment in which the subjects (\n"
   ]
  },
  {
   "cell_type": "markdown",
   "metadata": {},
   "source": [
    "<hr/>\n",
    "\n",
    "### Data collection:\n",
    "\n",
    "#### Data Background:\n",
    "Although I heavily contemplate the idea of becoming a LION as I love getting to know professionals from all part of the world, I am not a LION myself because of privacy reasons. Therefore, the data I gathered are not from my LinkedIn connections. In fact, I get help from a LION who is still new to the LinkedIn platform. Due to confidentiality issues, I will refer to the member as M., whose prefered pronouns are \"she,her,hers.\" M. also agrees to share with readers that she is an portratist who loves the idea of connecting with professionals to understand them. \n",
    "\n",
    "<br>\n",
    "\n",
    "**So why providing this data sets?** \n",
    "\n",
    "Part of the main motivations for M. to let me access this data source is to help her \"catch up\" with her connections so that she can post LinkedIn contents and artworks that are relevant and capitvating to her networkers. The other more refined and ambitious reason is to truely understand the whole population of LIONs members. As I mention earlier, all the steps in connecting process are totally random; M. logs on to her LinkedIn account everyday, participates in connection forum, and sends or accepts requests from \n",
    "**all** \n",
    "interested member. Therefore, with a sizeable and \"random sampling\" sample I am able to retrieve, we can infer from the true population. In other words, from this sample analysis, we can likely infer if the entire population of LIONS will likely follow the same trends. \n",
    "\n",
    "#### Data Information:\n",
    "\n",
    "Every data scientist knows the pain of cleaning and processing data. So in order to make this article more enjoyable, I will not include data cleansing part that obviously contributes significantly to this analysis. However, if you are interested in this component, please shoot me email me an at phuctluong@gmail.com and I will let you know more about the raw datasets along with R codes for data cleaning. \n",
    "\n",
    "<br>\n",
    "\n",
    "The main dataset is named \"lion\" and is recored under CSV extension. Some preliminary information: . Please also refer to the codes below to understand some initial features of this data."
   ]
  },
  {
   "cell_type": "markdown",
   "metadata": {},
   "source": [
    "<hr/>\n",
    "<div class=\"alert alert-success alertsuccess\" style=\"margin-top: 20px\">\n",
    "[Tip]: For any \"code\" cell section, to execute the Python codes I provide, please click on the cell to select it and press <kbd>Shift</kbd> + <kbd>Enter</kbd>.\n",
    "</div>\n",
    "<hr/>"
   ]
  },
  {
   "cell_type": "code",
   "execution_count": null,
   "metadata": {},
   "outputs": [],
   "source": [
    "# c"
   ]
  },
  {
   "cell_type": "markdown",
   "metadata": {},
   "source": [
    "<hr/>\n",
    "\n",
    "### Methods:\n",
    "So now that we have covered all the amazing motivation and magnificiently unique data sources, let's proceed to the most important part of this article:the analytical component. For this analytic part, I will stick with the basic, yet extremely consequential, exploratory data analysis. As many of you (most likely) have figured out, this whole article is written in Jupyter Notebook. For the rest of the analysis, I will mainly use Python languages (also Pandas) in conjuction with Jupyter Notebook. At the end of this article, I will also share R codes for those who are interested in replicating the results.  \n",
    "\n",
    "For the next sections of this article, the structure will be broken down to smaller subsections as follows: first is the \"word\" part where I will explain what I am going to do regarding the suibsection's main question. Then, I will go over more technical analysis through Python codings. At the end each subsections, I will also provide data visualization tools to understand our main data source \"lion.csv\" using Python. \n",
    "\n",
    "<br>\n",
    "After we have a thorough understanding of the data source, I will perform statistical analysis for inference about the main population, utilizing regression methods. This step will likely encounter some errors and limitations that will be discussed under \"limitations\" subsection. \n"
   ]
  },
  {
   "cell_type": "markdown",
   "metadata": {},
   "source": [
    "<hr/>\n",
    "\n",
    "### Part 1: What do they do?\n",
    "\n",
    "Work inn progress\n"
   ]
  },
  {
   "cell_type": "markdown",
   "metadata": {},
   "source": [
    "<hr/>\n",
    "\n",
    "### Part 2: What are they specialized in?\n",
    "Work in progress\n"
   ]
  },
  {
   "cell_type": "markdown",
   "metadata": {},
   "source": [
    "<hr/>\n",
    "\n",
    "### Part 3: Where are they from?\n",
    "Work in progress\n"
   ]
  },
  {
   "cell_type": "markdown",
   "metadata": {},
   "source": [
    "<hr/>\n",
    "\n",
    "### Part 4: What are their skill set?\n",
    "Work in progress\n"
   ]
  },
  {
   "cell_type": "code",
   "execution_count": null,
   "metadata": {},
   "outputs": [],
   "source": []
  }
 ],
 "metadata": {
  "kernelspec": {
   "display_name": "Python 3",
   "language": "python",
   "name": "python3"
  },
  "language_info": {
   "codemirror_mode": {
    "name": "ipython",
    "version": 3
   },
   "file_extension": ".py",
   "mimetype": "text/x-python",
   "name": "python",
   "nbconvert_exporter": "python",
   "pygments_lexer": "ipython3",
   "version": "3.7.6"
  }
 },
 "nbformat": 4,
 "nbformat_minor": 4
}
